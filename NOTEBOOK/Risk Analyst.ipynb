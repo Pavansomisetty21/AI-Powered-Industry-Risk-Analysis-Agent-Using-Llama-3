{
 "cells": [
  {
   "cell_type": "code",
   "execution_count": null,
   "id": "ae86cafa-88e4-4891-8f7f-0fd6ee41b18c",
   "metadata": {},
   "outputs": [],
   "source": [
    "import os\n",
    "from langchain_groq import ChatGroq\n",
    "from langchain.chains import LLMChain\n",
    "from langchain.agents import initialize_agent, AgentType\n",
    "from langchain.tools import Tool\n",
    "from langchain_core.prompts import ChatPromptTemplate\n"
   ]
  },
  {
   "cell_type": "code",
   "execution_count": 59,
   "id": "3693ea03-def8-4c3a-b908-d4761c2ecb05",
   "metadata": {},
   "outputs": [
    {
     "name": "stdin",
     "output_type": "stream",
     "text": [
      "Enter Industry /company /Idea in which we want to analyze the Risk:  ai mentoring\n"
     ]
    }
   ],
   "source": [
    "\n",
    "\n",
    "# Initialize API Key\n",
    "api_key = \"your api key\"  # Ensure you have set this properly\n",
    "\n",
    "# Get user input for industry\n",
    "Industry = input(\"Enter Industry /company /Idea in which we want to analyze the Risk: \")\n",
    "\n",
    "# Define prompt for risk analysis\n",
    "prompt1 = f\"\"\"\n",
    "You are a Risk Manager in the {Industry} field. Describe the key risks your organization faces within the \n",
    "Governance, Risk, and Compliance (GRC) framework. \n",
    "Focus on the types of risks—such as operational, financial, compliance, reputational, and strategic—that are \n",
    "most prevalent in your sector. \n",
    "\n",
    "Explain how you identify, assess, and mitigate these risks, including the tools, methodologies, or frameworks \n",
    "you employ. Discuss how industry-specific regulations and standards shape your risk management strategies, and how you \n",
    "adapt to emerging risks, such as changes in technology, market trends, or global events. \n",
    "\n",
    "Additionally, describe the role of continuous risk monitoring and how you ensure your organization remains resilient \n",
    "in the face of evolving risks.\n",
    "\"\"\"\n",
    "\n"
   ]
  },
  {
   "cell_type": "code",
   "execution_count": 55,
   "id": "f6736180-9727-4424-a5d0-0a67f35b0eef",
   "metadata": {},
   "outputs": [],
   "source": [
    "# Define ChatPromptTemplate\n",
    "prompt_template = ChatPromptTemplate.from_messages([\n",
    "    (\"system\", prompt1),\n",
    "    (\"human\", \"{Industry}\")\n",
    "])\n",
    "\n",
    "# Initialize the LLM\n",
    "llm = ChatGroq(model=\"llama-3.1-8b-instant\", api_key=api_key)\n"
   ]
  },
  {
   "cell_type": "code",
   "execution_count": 56,
   "id": "d451200a-a78a-4602-ab8f-bd441df4e99a",
   "metadata": {},
   "outputs": [],
   "source": [
    "\n",
    "\n",
    "# Define a tool that performs risk analysis\n",
    "def risk_analysis(industry: str):\n",
    "    \"\"\"Generates a risk analysis report for a given industry.\"\"\"\n",
    "    response = llm.invoke(prompt1)\n",
    "    return response\n"
   ]
  },
  {
   "cell_type": "code",
   "execution_count": 57,
   "id": "42126f08-a309-4bae-a229-e26be4201ed6",
   "metadata": {},
   "outputs": [],
   "source": [
    "\n",
    "# Create a tool for the agent\n",
    "risk_tool = Tool(\n",
    "    name=\"Risk Analysis\",\n",
    "    func=risk_analysis,\n",
    "    description=\"Provides a risk analysis report for a specified industry.\"\n",
    ")\n",
    "\n",
    "# Initialize the agent with the tool\n",
    "agent = initialize_agent(\n",
    "    tools=[risk_tool],\n",
    "    llm=llm,\n",
    "    agent=AgentType.ZERO_SHOT_REACT_DESCRIPTION,\n",
    "    verbose=True\n",
    ")\n"
   ]
  },
  {
   "cell_type": "code",
   "execution_count": 58,
   "id": "481ec329-1679-4802-94db-488416a025f7",
   "metadata": {},
   "outputs": [
    {
     "name": "stdout",
     "output_type": "stream",
     "text": [
      "\n",
      "\n",
      "\u001b[1m> Entering new AgentExecutor chain...\u001b[0m\n",
      "\u001b[32;1m\u001b[1;3mThought: To answer the question about AI mentoring, I need to understand the context and the type of information being requested.\n",
      "\n",
      "Action: Risk Analysis\n",
      "Action Input: education\u001b[0m\n",
      "Observation: \u001b[36;1m\u001b[1;3mcontent=\"As a Risk Manager in the AI mentoring field, our organization faces a unique set of risks within the Governance, Risk, and Compliance (GRC) framework. Here are the key risks we identify and manage:\\n\\n**Operational Risks**\\n\\n1. **Data Quality and Integrity**: Ensuring the accuracy, completeness, and consistency of AI training data is crucial to delivering high-quality mentoring services.\\n2. **System Outages and Downtime**: Technology failures can disrupt our services, impacting customer experience and reputation.\\n3. **Cybersecurity Threats**: Protecting sensitive customer information and proprietary AI models from cyber-attacks is essential.\\n\\n**Financial Risks**\\n\\n1. **Revenue Uncertainty**: Changes in market demand, competition, or regulatory requirements can impact our revenue streams.\\n2. **Cost Overruns**: Overestimating project costs or underestimating the complexity of AI development can lead to financial losses.\\n3. **Intellectual Property (IP) Theft**: Protecting our proprietary AI models and algorithms from unauthorized use or theft is essential.\\n\\n**Compliance Risks**\\n\\n1. **Data Protection and Privacy**: Ensuring compliance with data protection regulations, such as GDPR and CCPA, is critical to avoid fines and reputational damage.\\n2. **AI Bias and Fairness**: Mitigating bias in AI decision-making processes to ensure fairness and avoid potential compliance issues.\\n3. **Regulatory Changes**: Staying up-to-date with evolving regulations and standards, such as those related to AI ethics and accountability.\\n\\n**Reputational Risks**\\n\\n1. **Customer Experience**: Delivering high-quality mentoring services and ensuring customer satisfaction is essential to maintaining a positive reputation.\\n2. **Brand Damage**: Negative publicity or social media backlash can harm our reputation and impact business growth.\\n3. **Credibility and Trust**: Ensuring transparency and accountability in our AI decision-making processes is critical to maintaining credibility and trust with customers and stakeholders.\\n\\n**Strategic Risks**\\n\\n1. **Market Shifts and Trends**: Adapting to changing market demands, competition, and technological advancements is essential to remain competitive.\\n2. **Partnership and Collaboration Risks**: Building and maintaining effective partnerships with other organizations can impact our strategic goals and reputation.\\n3. **Innovation and Disruption**: Embracing innovation and disruption in the AI mentoring field requires careful risk management and strategic planning.\\n\\nTo identify, assess, and mitigate these risks, we employ various tools, methodologies, and frameworks, including:\\n\\n1. **Risk Assessments**: Conducting regular risk assessments to identify and prioritize potential risks.\\n2. **SWOT Analysis**: Analyzing our organization's strengths, weaknesses, opportunities, and threats to inform strategic decisions.\\n3. **Balanced Scorecard**: Using a balanced scorecard to track key performance indicators (KPIs) and measure progress against strategic objectives.\\n4. **Continuous Monitoring**: Regularly monitoring our systems, processes, and data to identify potential risks and vulnerabilities.\\n5. **Third-Party Risk Management**: Implementing effective third-party risk management practices to mitigate risks associated with partnerships and collaborations.\\n\\nWe also stay up-to-date with industry-specific regulations and standards, such as:\\n\\n1. **GDPR and CCPA**: Ensuring compliance with data protection regulations.\\n2. **AI Ethics and Accountability**: Adhering to guidelines and standards related to AI ethics and accountability.\\n3. **Industry-specific Standards**: Following industry-specific standards and best practices for AI development and deployment.\\n\\nTo adapt to emerging risks, we:\\n\\n1. **Stay Informed**: Continuously monitoring industry trends, research, and regulatory updates.\\n2. **Conduct Scenario Planning**: Developing scenarios to anticipate and prepare for potential risks and opportunities.\\n3. **Collaborate with Stakeholders**: Engaging with customers, partners, and industry experts to stay informed and adapt to changing needs and requirements.\\n\\nContinuous risk monitoring is critical to ensuring our organization remains resilient in the face of evolving risks. We:\\n\\n1. **Regularly Review and Update Risk Assessments**: Ensuring our risk assessments remain relevant and effective.\\n2. **Conduct Regular Audits and Assessments**: Monitoring our systems, processes, and data to identify potential risks and vulnerabilities.\\n3. **Implement Effective Controls and Mitigation Strategies**: Implementing and maintaining effective controls and mitigation strategies to manage identified risks.\" additional_kwargs={} response_metadata={'token_usage': {'completion_tokens': 869, 'prompt_tokens': 186, 'total_tokens': 1055, 'completion_time': 1.158666667, 'prompt_time': 0.007813447, 'queue_time': 0.208466956, 'total_time': 1.166480114}, 'model_name': 'llama-3.1-8b-instant', 'system_fingerprint': 'fp_a56f6eea01', 'finish_reason': 'stop', 'logprobs': None} id='run-1acb9283-c34a-4517-b72c-d56e5fcab82d-0' usage_metadata={'input_tokens': 186, 'output_tokens': 869, 'total_tokens': 1055}\u001b[0m\n",
      "\u001b[32;1m\u001b[1;3mQuestion: ai mentoring\n",
      "Thought: To answer this question about AI mentoring, I need to understand the context and the type of information being requested. The provided risk analysis report for the education industry seems relevant to this topic. However, I still need to identify a specific aspect of AI mentoring to provide a more focused answer.\n",
      "\n",
      "Action: Risk Analysis\n",
      "Action Input: education and AI\u001b[0m\n",
      "Observation: \u001b[36;1m\u001b[1;3mcontent='As a Risk Manager in the AI mentoring field, my organization faces a unique set of risks within the Governance, Risk, and Compliance (GRC) framework. The key risks we identify and mitigate include:\\n\\n**Operational Risks:**\\n\\n1. **Data Quality and Integrity**: Ensuring the accuracy, completeness, and security of data used to train AI models.\\n2. **System Failures**: Protecting against system downtime, data breaches, and other technical failures that can impact our services.\\n3. **Staff Training and Competency**: Maintaining the skills and knowledge of our employees to effectively use AI tools and address potential issues.\\n\\n**Financial Risks:**\\n\\n1. **Investment in AI Research and Development**: Managing the costs associated with developing and maintaining AI capabilities.\\n2. **Revenue Volatility**: Mitigating the risk of revenue fluctuations due to changes in market demand or competition.\\n3. **Cybersecurity Costs**: Addressing the financial implications of a data breach or other cybersecurity incidents.\\n\\n**Compliance Risks:**\\n\\n1. **Data Protection Regulations**: Ensuring compliance with regulations such as GDPR, CCPA, and other data protection laws.\\n2. **Bias and Fairness**: Addressing the risk of AI systems perpetuating biases and unfair outcomes.\\n3. **Licensing and Intellectual Property**: Managing the use of third-party AI tools and ensuring compliance with licensing agreements.\\n\\n**Reputational Risks:**\\n\\n1. **Negative Public Perception**: Mitigating the risk of reputation damage due to AI-related mistakes or biases.\\n2. **Lack of Transparency**: Ensuring the transparency of our AI decision-making processes to maintain trust with our stakeholders.\\n3. **Competitor Disruption**: Addressing the risk of competitors using AI to disrupt our business model.\\n\\n**Strategic Risks:**\\n\\n1. **Failure to Keep Pace with Emerging Technologies**: Staying ahead of the curve in terms of AI innovation and adoption.\\n2. **Insufficient Resources**: Ensuring that we have the necessary resources to invest in AI research and development.\\n3. **Shift in Market Demand**: Adapting to changes in market demand and adjusting our AI strategy accordingly.\\n\\n**Risk Management Strategies:**\\n\\n1. **Risk Assessment**: Conducting regular risk assessments to identify potential risks and prioritize mitigation efforts.\\n2. **Risk Mitigation**: Implementing controls, such as data encryption, access controls, and incident response plans, to mitigate identified risks.\\n3. **Continuous Monitoring**: Regularly reviewing and updating our risk management strategies to ensure they remain effective.\\n4. **Industry-Specific Regulations**: Ensuring compliance with industry-specific regulations, such as those related to AI, data protection, and intellectual property.\\n\\n**Tools and Methodologies:**\\n\\n1. **Risk Management Frameworks**: Using frameworks such as COSO (Committee of Sponsoring Organizations) or ISO 31000 to guide our risk management activities.\\n2. **Risk Assessment Tools**: Utilizing tools such as SWOT (Strengths, Weaknesses, Opportunities, and Threats) analysis or risk matrices to identify and assess risks.\\n3. **Data Analytics**: Leveraging data analytics to monitor and analyze risk-related data, such as incident reports and compliance metrics.\\n\\n**Adapting to Emerging Risks:**\\n\\n1. **Staying Informed**: Regularly monitoring industry news and trends to stay aware of emerging risks.\\n2. **Scenario Planning**: Developing scenarios to anticipate potential future risks and developing strategies to mitigate them.\\n3. **Collaboration**: Collaborating with industry peers and experts to share knowledge and best practices.\\n\\n**Continuous Risk Monitoring:**\\n\\n1. **Regular Risk Assessments**: Conducting regular risk assessments to identify potential risks and prioritize mitigation efforts.\\n2. **Incident Reporting**: Encouraging employees to report incidents and near-misses to identify areas for improvement.\\n3. **Compliance Audits**: Conducting regular compliance audits to ensure ongoing compliance with regulations and industry standards.\\n\\nBy employing a comprehensive risk management framework and staying vigilant in the face of emerging risks, our organization remains resilient and well-equipped to navigate the complex landscape of AI mentoring.' additional_kwargs={} response_metadata={'token_usage': {'completion_tokens': 829, 'prompt_tokens': 186, 'total_tokens': 1015, 'completion_time': 1.105333333, 'prompt_time': 0.012315003, 'queue_time': 6.433875183, 'total_time': 1.117648336}, 'model_name': 'llama-3.1-8b-instant', 'system_fingerprint': 'fp_a56f6eea01', 'finish_reason': 'stop', 'logprobs': None} id='run-70dc0508-f379-45cd-a972-25c04fc8b6cc-0' usage_metadata={'input_tokens': 186, 'output_tokens': 829, 'total_tokens': 1015}\u001b[0m\n",
      "\u001b[32;1m\u001b[1;3mQuestion: ai mentoring\n",
      "Thought: To answer this question about AI mentoring, I need to understand the context and the type of information being requested. The provided risk analysis report for the education and AI industry seems relevant to this topic. Based on the report, I can identify potential risks and mitigation strategies associated with AI mentoring.\n",
      "\n",
      "Thought: The report highlights various risks, including operational, financial, compliance, reputational, and strategic risks. These risks are associated with aspects of AI mentoring such as data quality and integrity, system failures, staff training and competency, investment in AI research and development, cybersecurity costs, data protection regulations, bias and fairness, negative public perception, and failure to keep pace with emerging technologies.\n",
      "\n",
      "Action: Risk Analysis\n",
      "Action Input: education and AI mentoring\u001b[0m\n",
      "Observation: \u001b[36;1m\u001b[1;3mcontent=\"As a Risk Manager in the AI mentoring field, I identify the following key risks within the Governance, Risk, and Compliance (GRC) framework:\\n\\n1. **Operational Risks**: These risks arise from the failure of internal processes, systems, and people to deliver services and meet expectations. In our sector, operational risks include:\\n\\t* Technical failures of AI systems\\n\\t* Data breaches or unauthorized access to sensitive information\\n\\t* Inadequate training or support for AI mentors\\n\\t* Failure to maintain accurate and up-to-date knowledge bases\\n2. **Financial Risks**: These risks relate to the financial performance and stability of the organization. In our sector, financial risks include:\\n\\t* Revenue decline due to competition or market changes\\n\\t* Increased costs associated with maintaining high-quality AI systems\\n\\t* Failure to collect payments from clients or partners\\n\\t* Inadequate budgeting or forecasting\\n3. **Compliance Risks**: These risks arise from non-compliance with relevant laws, regulations, and standards. In our sector, compliance risks include:\\n\\t* Non-compliance with data protection regulations (e.g., GDPR, CCPA)\\n\\t* Failure to meet industry standards for AI system development and deployment\\n\\t* Inadequate documentation of AI decision-making processes\\n4. **Reputational Risks**: These risks relate to the damage to the organization's reputation and brand. In our sector, reputational risks include:\\n\\t* Negative publicity related to AI system failures or biases\\n\\t* Failure to maintain confidentiality or protect sensitive information\\n\\t* Inadequate transparency or accountability in AI decision-making\\n5. **Strategic Risks**: These risks arise from changes in the external environment that may impact the organization's goals and objectives. In our sector, strategic risks include:\\n\\t* Changes in market trends or technology that impact the demand for AI mentoring services\\n\\t* Failure to adapt to emerging technologies or innovations\\n\\t* Changes in regulatory requirements or industry standards\\n\\nTo identify, assess, and mitigate these risks, we employ various tools, methodologies, and frameworks, including:\\n\\n1. **Risk Assessment Frameworks**: We use frameworks such as the Enterprise Risk Management (ERM) framework to identify and assess risks.\\n2. **Compliance and Regulatory Reviews**: We conduct regular reviews of industry-specific regulations and standards (e.g., GDPR, HIPAA) to ensure compliance.\\n3. **Technical Audits**: We conduct regular technical audits to assess the reliability and security of our AI systems.\\n4. **Continuous Monitoring**: We implement continuous monitoring tools to track and respond to emerging risks and changes in the external environment.\\n5. **Scenario Planning**: We engage in scenario planning to anticipate and prepare for potential strategic risks.\\n\\nTo adapt to emerging risks, we:\\n\\n1. **Stay Informed**: We stay informed about industry trends, regulatory changes, and emerging technologies.\\n2. **Engage with Stakeholders**: We engage with stakeholders, including clients, partners, and industry experts, to gather insights and feedback.\\n3. **Conduct Regular Risk Assessments**: We conduct regular risk assessments to identify and address emerging risks.\\n4. **Foster a Culture of Risk Awareness**: We foster a culture of risk awareness and encourage employees to report concerns or potential risks.\\n\\nTo ensure continuous risk monitoring and resilience, we:\\n\\n1. **Implement Real-Time Monitoring**: We implement real-time monitoring tools to track and respond to emerging risks.\\n2. **Establish a Risk Management Committee**: We establish a risk management committee to oversee risk identification, assessment, and mitigation.\\n3. **Develop and Maintain Risk Management Plans**: We develop and maintain risk management plans to address identified risks.\\n4. **Conduct Regular Training and Awareness Programs**: We conduct regular training and awareness programs to ensure employees understand risk management principles and procedures.\" additional_kwargs={} response_metadata={'token_usage': {'completion_tokens': 765, 'prompt_tokens': 186, 'total_tokens': 951, 'completion_time': 1.02, 'prompt_time': 0.012290824, 'queue_time': 0.19602035299999998, 'total_time': 1.032290824}, 'model_name': 'llama-3.1-8b-instant', 'system_fingerprint': 'fp_a56f6eea01', 'finish_reason': 'stop', 'logprobs': None} id='run-c293669e-be56-48e5-a54b-2d4448e584c8-0' usage_metadata={'input_tokens': 186, 'output_tokens': 765, 'total_tokens': 951}\u001b[0m\n",
      "\u001b[32;1m\u001b[1;3mFinal Answer: The key risks associated with AI mentoring in the education industry are operational, financial, compliance, reputational, and strategic risks, including technical failures of AI systems, data breaches, inadequate training or support for AI mentors, revenue decline, increased costs, non-compliance with data protection regulations, negative publicity, and failure to adapt to emerging technologies. To mitigate these risks, organizations can employ risk assessment frameworks, compliance and regulatory reviews, technical audits, continuous monitoring, and scenario planning. Additionally, staying informed, engaging with stakeholders, conducting regular risk assessments, fostering a culture of risk awareness, and implementing real-time monitoring can help ensure continuous risk monitoring and resilience in the face of emerging risks.\u001b[0m\n",
      "\n",
      "\u001b[1m> Finished chain.\u001b[0m\n",
      "\n",
      "🛡️ Risk Analysis Report:\n",
      "The key risks associated with AI mentoring in the education industry are operational, financial, compliance, reputational, and strategic risks, including technical failures of AI systems, data breaches, inadequate training or support for AI mentors, revenue decline, increased costs, non-compliance with data protection regulations, negative publicity, and failure to adapt to emerging technologies. To mitigate these risks, organizations can employ risk assessment frameworks, compliance and regulatory reviews, technical audits, continuous monitoring, and scenario planning. Additionally, staying informed, engaging with stakeholders, conducting regular risk assessments, fostering a culture of risk awareness, and implementing real-time monitoring can help ensure continuous risk monitoring and resilience in the face of emerging risks.\n"
     ]
    }
   ],
   "source": [
    "\n",
    "\n",
    "response = agent.run(Industry)\n",
    "\n",
    "# Print the output\n",
    "print(\"\\n🛡️ Risk Analysis Report:\")\n",
    "print(response)\n"
   ]
  },
  {
   "cell_type": "code",
   "execution_count": null,
   "id": "9efae1b1-9ab3-4ac5-8946-bc8316879aa8",
   "metadata": {},
   "outputs": [],
   "source": []
  }
 ],
 "metadata": {
  "kernelspec": {
   "display_name": "Python 3 (ipykernel)",
   "language": "python",
   "name": "python3"
  },
  "language_info": {
   "codemirror_mode": {
    "name": "ipython",
    "version": 3
   },
   "file_extension": ".py",
   "mimetype": "text/x-python",
   "name": "python",
   "nbconvert_exporter": "python",
   "pygments_lexer": "ipython3",
   "version": "3.12.8"
  }
 },
 "nbformat": 4,
 "nbformat_minor": 5
}
